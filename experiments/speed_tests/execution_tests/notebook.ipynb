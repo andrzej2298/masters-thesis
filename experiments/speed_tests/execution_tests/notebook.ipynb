{
 "cells": [
  {
   "cell_type": "code",
   "execution_count": 8,
   "metadata": {},
   "outputs": [
    {
     "name": "stdout",
     "output_type": "stream",
     "text": [
      "172.55544662475586\n",
      "152.18059221903482\n",
      "144.80948448181152\n",
      "146.59265677134195\n"
     ]
    }
   ],
   "source": [
    "import numpy as np\n",
    "\n",
    "with open(\"strace_results.txt\") as f:\n",
    "    lines = [line.strip() for line in f.readlines()]\n",
    "    lines = lines[1:]\n",
    "\n",
    "    ffi_begin_delay = []\n",
    "    ffi_end_delay = []\n",
    "\n",
    "    go_begin_delay = []\n",
    "    go_end_delay = []\n",
    "\n",
    "    for i in range(0, len(lines), 12):\n",
    "        test = lines[i:i+12]\n",
    "        ffi_part = test[1:6]\n",
    "        go_part = test[7:]\n",
    "\n",
    "\n",
    "        ffi_begin_1_ts = float(ffi_part[0].split()[0])\n",
    "        ffi_begin_1_duration = float(ffi_part[0].split()[5].replace(\"<\", \"\").replace(\">\", \"\"))\n",
    "\n",
    "        ffi_begin_2_ts = float(ffi_part[1].split()[0])\n",
    "\n",
    "        ffi_begin_delay.append(ffi_begin_2_ts - (ffi_begin_1_ts + ffi_begin_1_duration))\n",
    "\n",
    "        ffi_end_1_ts = float(ffi_part[3].split()[0])\n",
    "        ffi_end_1_duration = float(ffi_part[3].split()[6].replace(\"<\", \"\").replace(\">\", \"\"))\n",
    "\n",
    "        ffi_end_2_ts = float(ffi_part[4].split()[0])\n",
    "\n",
    "        ffi_end_delay.append(ffi_end_2_ts - (ffi_end_1_ts + ffi_end_1_duration))\n",
    "\n",
    "        go_begin_1_ts = float(go_part[0].split()[0])\n",
    "        go_begin_1_duration = float(go_part[0].split()[5].replace(\"<\", \"\").replace(\">\", \"\"))\n",
    "\n",
    "        go_begin_2_ts = float(go_part[1].split()[0])\n",
    "\n",
    "        go_begin_delay.append(go_begin_2_ts - (go_begin_1_ts + go_begin_1_duration))\n",
    "\n",
    "        go_end_1_ts = float(go_part[3].split()[0])\n",
    "        go_end_1_duration = float(go_part[3].split()[5].replace(\"<\", \"\").replace(\">\", \"\"))\n",
    "\n",
    "        go_end_2_ts = float(go_part[4].split()[0])\n",
    "\n",
    "        go_end_delay.append(go_end_2_ts - (go_end_1_ts + go_end_1_duration))\n",
    "\n",
    "    ffi_begin_delay = np.array(ffi_begin_delay)\n",
    "    ffi_end_delay = np.array(ffi_end_delay)\n",
    "    go_begin_delay = np.array(go_begin_delay)\n",
    "    go_end_delay = np.array(go_end_delay)\n",
    "\n",
    "    ffi_begin_delay_mean_us = np.mean(ffi_begin_delay) * 1_000_000\n",
    "    ffi_end_delay_mean_us = np.mean(ffi_end_delay) * 1_000_000\n",
    "\n",
    "    go_begin_delay_mean_us = np.mean(go_begin_delay) * 1_000_000\n",
    "    go_end_delay_mean_us = np.mean(go_end_delay) * 1_000_000\n",
    "\n",
    "    print(ffi_begin_delay_mean_us)\n",
    "    print(ffi_end_delay_mean_us)\n",
    "\n",
    "    print(go_begin_delay_mean_us)\n",
    "    print(go_end_delay_mean_us)\n",
    "\n"
   ]
  },
  {
   "cell_type": "code",
   "execution_count": 17,
   "metadata": {},
   "outputs": [
    {
     "data": {
      "image/png": "[encoded data removed]",
      "text/plain": [
       "<Figure size 640x480 with 1 Axes>"
      ]
     },
     "metadata": {},
     "output_type": "display_data"
    }
   ],
   "source": [
    "from matplotlib import pyplot as plt\n",
    "\n",
    "plt.rcParams.update({\n",
    "    \"text.usetex\": True,\n",
    "})\n",
    "\n",
    "labels = [\"function start\", \"function end\"]\n",
    "x = np.arange(len(labels))\n",
    "width = 0.35\n",
    "\n",
    "fig, ax = plt.subplots()\n",
    "ax.bar(x - width / 2, [ffi_begin_delay_mean_us, ffi_end_delay_mean_us], width, label=\"FFI\")\n",
    "ax.bar(x + width / 2, [go_begin_delay_mean_us, go_end_delay_mean_us], width, label=\"Go\")\n",
    "ax.set_ylabel(r\"time ($\\mu$s)\")\n",
    "ax.set_xticks(x, labels)\n",
    "ax.legend()\n",
    "\n",
    "plt.savefig(\"function_execution.pdf\")"
   ]
  }
 ],
 "metadata": {
  "kernelspec": {
   "display_name": "Python 3.10.8 64-bit",
   "language": "python",
   "name": "python3"
  },
  "language_info": {
   "codemirror_mode": {
    "name": "ipython",
    "version": 3
   },
   "file_extension": ".py",
   "mimetype": "text/x-python",
   "name": "python",
   "nbconvert_exporter": "python",
   "pygments_lexer": "ipython3",
   "version": "3.10.8"
  },
  "orig_nbformat": 4,
  "vscode": {
   "interpreter": {
    "hash": "b0fa6594d8f4cbf19f97940f81e996739fb7646882a419484c72d19e05852a7e"
   }
  }
 },
 "nbformat": 4,
 "nbformat_minor": 2
}
