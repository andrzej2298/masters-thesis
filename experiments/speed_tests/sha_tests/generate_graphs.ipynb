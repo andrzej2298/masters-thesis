{
 "cells": [
  {
   "cell_type": "markdown",
   "metadata": {},
   "source": [
    "# Pure Jsonnet 1-20"
   ]
  },
  {
   "cell_type": "code",
   "execution_count": 1,
   "metadata": {},
   "outputs": [
    {
     "name": "stdout",
     "output_type": "stream",
     "text": [
      "[31.0, 28.0, 38.0, 47.0, 56.0, 66.0, 74.0, 81.0, 92.0, 101.0, 109.0, 113.0, 126.0, 137.0, 147.0, 155.0, 163.0, 171.0, 181.0, 185.0, 194.0, 204.0, 214.0, 224.0, 229.0, 243.0, 249.0, 257.0, 265.0, 273.0]\n",
      "[22.0, 29.0, 38.0, 47.0, 56.0, 65.0, 74.0, 82.0, 90.0, 100.0, 111.0, 115.0, 130.0, 136.0, 147.0, 152.0, 163.0, 168.0, 180.0, 191.0, 197.0, 205.0, 217.0, 223.0, 260.0, 264.0, 247.0, 261.0, 269.0, 277.0]\n",
      "[21.0, 29.0, 38.0, 46.0, 56.0, 65.0, 73.0, 82.0, 89.0, 103.0, 109.0, 118.0, 127.0, 137.0, 143.0, 157.0, 171.0, 169.0, 181.0, 192.0, 196.0, 205.0, 215.0, 224.0, 228.0, 239.0, 250.0, 256.0, 265.0, 274.0]\n",
      "[22.0, 29.0, 38.0, 46.0, 57.0, 66.0, 74.0, 83.0, 88.0, 103.0, 110.0, 118.0, 126.0, 138.0, 144.0, 153.0, 162.0, 171.0, 177.0, 198.0, 194.0, 203.0, 214.0, 222.0, 231.0, 242.0, 247.0, 255.0, 269.0, 278.0]\n",
      "[23.0, 28.0, 37.0, 47.0, 57.0, 65.0, 74.0, 82.0, 90.0, 100.0, 108.0, 118.0, 125.0, 134.0, 146.0, 150.0, 162.0, 173.0, 180.0, 188.0, 193.0, 206.0, 214.0, 223.0, 231.0, 242.0, 251.0, 256.0, 265.0, 274.0]\n",
      "[22.0, 28.0, 38.0, 47.0, 57.0, 64.0, 72.0, 81.0, 90.0, 100.0, 108.0, 115.0, 123.0, 132.0, 145.0, 154.0, 164.0, 171.0, 177.0, 190.0, 196.0, 205.0, 210.0, 224.0, 234.0, 241.0, 246.0, 255.0, 264.0, 277.0]\n",
      "[22.0, 28.0, 38.0, 47.0, 57.0, 65.0, 72.0, 83.0, 92.0, 97.0, 106.0, 110.0, 122.0, 133.0, 143.0, 154.0, 163.0, 171.0, 181.0, 184.0, 196.0, 206.0, 215.0, 216.0, 230.0, 243.0, 244.0, 257.0, 271.0, 279.0]\n",
      "[22.0, 29.0, 38.0, 47.0, 57.0, 65.0, 74.0, 84.0, 94.0, 102.0, 108.0, 117.0, 127.0, 136.0, 146.0, 158.0, 161.0, 170.0, 178.0, 184.0, 198.0, 205.0, 212.0, 220.0, 230.0, 243.0, 249.0, 261.0, 265.0, 273.0]\n",
      "[22.0, 28.0, 37.0, 47.0, 56.0, 66.0, 74.0, 81.0, 91.0, 99.0, 110.0, 118.0, 122.0, 138.0, 140.0, 151.0, 162.0, 171.0, 179.0, 186.0, 196.0, 206.0, 213.0, 222.0, 229.0, 239.0, 250.0, 257.0, 262.0, 274.0]\n",
      "[23.0, 28.0, 38.0, 47.0, 56.0, 66.0, 73.0, 82.0, 90.0, 99.0, 108.0, 118.0, 127.0, 137.0, 142.0, 152.0, 161.0, 173.0, 179.0, 186.0, 195.0, 206.0, 213.0, 226.0, 233.0, 243.0, 252.0, 257.0, 266.0, 275.0]\n",
      "[ 23.   28.4  37.8  46.8  56.5  65.3  73.4  82.1  90.6 100.4 108.7 116.\n",
      " 125.5 135.8 144.3 153.6 163.2 170.8 179.3 188.4 195.5 205.1 213.7 222.4\n",
      " 233.5 243.9 248.5 257.2 266.1 275.4]\n"
     ]
    }
   ],
   "source": [
    "import numpy as np\n",
    "results = []\n",
    "\n",
    "for i in range(10):\n",
    "    jsonnet_function_execution_times = !./test_jsonnet.sh 2>&1 | grep real | grep -o '[0-9]\\+\\.[0-9]\\+'\n",
    "    milliseconds = [float(t) * 1000 for t in jsonnet_function_execution_times]\n",
    "    print(milliseconds)\n",
    "    results.append(milliseconds)\n",
    "\n",
    "results = np.array(results)\n",
    "avg_milliseconds_jsonnet = np.mean(results, axis=0)\n",
    "print(avg_milliseconds_jsonnet)"
   ]
  },
  {
   "cell_type": "markdown",
   "metadata": {},
   "source": [
    "# Rust 1-20"
   ]
  },
  {
   "cell_type": "code",
   "execution_count": 2,
   "metadata": {},
   "outputs": [
    {
     "name": "stdout",
     "output_type": "stream",
     "text": [
      "[3.0, 2.0, 2.0, 2.0, 2.0, 2.0, 2.0, 2.0, 2.0, 2.0, 2.0, 2.0, 2.0, 2.0, 2.0, 2.0, 2.0, 2.0, 2.0, 2.0, 2.0, 2.0, 2.0, 2.0, 2.0, 2.0, 2.0, 2.0, 3.0, 2.0]\n",
      "[3.0, 2.0, 2.0, 2.0, 2.0, 2.0, 2.0, 2.0, 2.0, 2.0, 2.0, 2.0, 2.0, 2.0, 2.0, 2.0, 2.0, 2.0, 2.0, 2.0, 2.0, 2.0, 2.0, 2.0, 2.0, 2.0, 2.0, 2.0, 2.0, 2.0]\n",
      "[3.0, 2.0, 2.0, 2.0, 2.0, 2.0, 2.0, 2.0, 2.0, 2.0, 2.0, 2.0, 2.0, 2.0, 2.0, 2.0, 2.0, 2.0, 2.0, 2.0, 2.0, 2.0, 2.0, 2.0, 2.0, 2.0, 2.0, 2.0, 2.0, 2.0]\n",
      "[3.0, 2.0, 2.0, 2.0, 2.0, 2.0, 2.0, 2.0, 2.0, 2.0, 2.0, 2.0, 2.0, 2.0, 2.0, 2.0, 2.0, 2.0, 2.0, 2.0, 2.0, 2.0, 2.0, 2.0, 2.0, 2.0, 2.0, 2.0, 2.0, 2.0]\n",
      "[3.0, 2.0, 2.0, 2.0, 2.0, 2.0, 2.0, 2.0, 2.0, 2.0, 2.0, 2.0, 2.0, 2.0, 2.0, 2.0, 2.0, 2.0, 3.0, 2.0, 2.0, 2.0, 2.0, 2.0, 2.0, 2.0, 2.0, 2.0, 2.0, 2.0]\n",
      "[3.0, 2.0, 2.0, 2.0, 2.0, 2.0, 2.0, 2.0, 2.0, 2.0, 2.0, 2.0, 2.0, 2.0, 2.0, 3.0, 2.0, 2.0, 2.0, 2.0, 2.0, 2.0, 2.0, 2.0, 2.0, 2.0, 2.0, 2.0, 2.0, 2.0]\n",
      "[3.0, 2.0, 2.0, 2.0, 2.0, 2.0, 2.0, 2.0, 2.0, 2.0, 2.0, 2.0, 2.0, 2.0, 2.0, 2.0, 2.0, 2.0, 2.0, 2.0, 2.0, 2.0, 2.0, 2.0, 2.0, 2.0, 2.0, 2.0, 2.0, 2.0]\n",
      "[3.0, 2.0, 2.0, 2.0, 2.0, 2.0, 2.0, 2.0, 2.0, 2.0, 2.0, 2.0, 2.0, 2.0, 2.0, 2.0, 2.0, 2.0, 2.0, 2.0, 2.0, 3.0, 2.0, 2.0, 2.0, 2.0, 2.0, 2.0, 2.0, 3.0]\n",
      "[3.0, 2.0, 2.0, 2.0, 2.0, 2.0, 2.0, 2.0, 2.0, 2.0, 2.0, 2.0, 2.0, 2.0, 2.0, 2.0, 2.0, 2.0, 2.0, 2.0, 2.0, 2.0, 2.0, 2.0, 2.0, 2.0, 2.0, 3.0, 2.0, 2.0]\n",
      "[3.0, 2.0, 2.0, 2.0, 2.0, 2.0, 2.0, 2.0, 2.0, 2.0, 2.0, 2.0, 2.0, 2.0, 2.0, 2.0, 2.0, 2.0, 2.0, 2.0, 2.0, 2.0, 2.0, 2.0, 2.0, 2.0, 2.0, 2.0, 2.0, 2.0]\n",
      "[3.  2.  2.  2.  2.  2.  2.  2.  2.  2.  2.  2.  2.  2.  2.  2.1 2.  2.\n",
      " 2.1 2.  2.  2.1 2.  2.  2.  2.  2.  2.1 2.1 2.1]\n"
     ]
    }
   ],
   "source": [
    "results = []\n",
    "\n",
    "for i in range(10):\n",
    "    jsonnet_function_execution_times = !./test_rust.sh 2>&1 | grep real | grep -o '[0-9]\\+\\.[0-9]\\+'\n",
    "    milliseconds = [float(t) * 1000 for t in jsonnet_function_execution_times]\n",
    "    print(milliseconds)\n",
    "    results.append(milliseconds)\n",
    "\n",
    "results = np.array(results)\n",
    "avg_milliseconds_rust = np.mean(results, axis=0)\n",
    "print(avg_milliseconds_rust)"
   ]
  },
  {
   "cell_type": "markdown",
   "metadata": {},
   "source": [
    "# Jsonnet FFI 1-20"
   ]
  },
  {
   "cell_type": "code",
   "execution_count": 3,
   "metadata": {},
   "outputs": [
    {
     "name": "stdout",
     "output_type": "stream",
     "text": [
      "[156.0, 243.0, 181.0, 153.0, 163.0, 169.0, 166.0, 176.0, 164.0, 167.0, 168.0, 163.0, 169.0, 167.0, 164.0, 167.0, 164.0, 163.0, 163.0, 165.0, 180.0, 163.0, 167.0, 171.0, 169.0, 176.0, 160.0, 175.0, 162.0, 160.0]\n",
      "[159.0, 159.0, 171.0, 167.0, 167.0, 162.0, 161.0, 171.0, 167.0, 161.0, 169.0, 164.0, 166.0, 168.0, 168.0, 159.0, 162.0, 176.0, 165.0, 164.0, 167.0, 165.0, 167.0, 156.0, 164.0, 168.0, 167.0, 168.0, 173.0, 160.0]\n",
      "[151.0, 169.0, 177.0, 164.0, 172.0, 164.0, 168.0, 168.0, 168.0, 164.0, 258.0, 173.0, 211.0, 205.0, 223.0, 203.0, 219.0, 210.0, 184.0, 168.0, 169.0, 182.0, 221.0, 250.0, 198.0, 208.0, 202.0, 183.0, 200.0, 194.0]\n",
      "[154.0, 176.0, 178.0, 163.0, 191.0, 186.0, 181.0, 210.0, 209.0, 187.0, 198.0, 181.0, 172.0, 169.0, 168.0, 176.0, 169.0, 170.0, 175.0, 209.0, 231.0, 185.0, 177.0, 174.0, 189.0, 262.0, 198.0, 200.0, 190.0, 180.0]\n",
      "[217.0, 195.0, 189.0, 210.0, 240.0, 214.0, 178.0, 174.0, 171.0, 205.0, 195.0, 182.0, 173.0, 167.0, 171.0, 167.0, 171.0, 180.0, 161.0, 178.0, 173.0, 172.0, 175.0, 169.0, 167.0, 185.0, 159.0, 181.0, 172.0, 171.0]\n",
      "[159.0, 172.0, 192.0, 172.0, 181.0, 159.0, 170.0, 166.0, 175.0, 167.0, 161.0, 173.0, 171.0, 170.0, 163.0, 172.0, 177.0, 172.0, 178.0, 165.0, 172.0, 173.0, 176.0, 160.0, 175.0, 173.0, 173.0, 167.0, 176.0, 172.0]\n",
      "[164.0, 172.0, 172.0, 161.0, 178.0, 167.0, 172.0, 177.0, 159.0, 164.0, 172.0, 173.0, 173.0, 166.0, 170.0, 170.0, 170.0, 167.0, 163.0, 177.0, 171.0, 165.0, 172.0, 174.0, 169.0, 167.0, 178.0, 166.0, 167.0, 177.0]\n",
      "[156.0, 176.0, 172.0, 173.0, 169.0, 172.0, 173.0, 165.0, 174.0, 169.0, 170.0, 170.0, 171.0, 167.0, 170.0, 172.0, 170.0, 170.0, 171.0, 170.0, 163.0, 177.0, 176.0, 166.0, 168.0, 169.0, 172.0, 175.0, 165.0, 178.0]\n",
      "[157.0, 168.0, 182.0, 164.0, 176.0, 173.0, 174.0, 167.0, 167.0, 180.0, 170.0, 169.0, 167.0, 171.0, 171.0, 160.0, 187.0, 208.0, 191.0, 169.0, 169.0, 168.0, 172.0, 167.0, 169.0, 174.0, 169.0, 172.0, 177.0, 162.0]\n",
      "[165.0, 172.0, 168.0, 165.0, 166.0, 174.0, 169.0, 164.0, 171.0, 169.0, 167.0, 165.0, 178.0, 164.0, 174.0, 175.0, 174.0, 187.0, 174.0, 169.0, 167.0, 182.0, 174.0, 168.0, 165.0, 179.0, 174.0, 171.0, 175.0, 169.0]\n",
      "[163.8 180.2 178.2 169.2 180.3 174.  171.2 173.8 172.5 173.3 182.8 171.3\n",
      " 175.1 171.4 174.2 172.1 176.3 180.3 172.5 173.4 176.2 173.2 177.7 175.5\n",
      " 173.3 186.1 175.2 175.8 175.7 172.3]\n"
     ]
    }
   ],
   "source": [
    "results = []\n",
    "\n",
    "for i in range(10):\n",
    "    jsonnet_function_execution_times = !./test_ffi.sh 2>&1 | grep real | grep -o '[0-9]\\+\\.[0-9]\\+'\n",
    "    milliseconds = [float(t) * 1000 for t in jsonnet_function_execution_times]\n",
    "    print(milliseconds)\n",
    "    results.append(milliseconds)\n",
    "\n",
    "results = np.array(results)\n",
    "avg_milliseconds_ffi = np.mean(results, axis=0)\n",
    "print(avg_milliseconds_ffi)"
   ]
  },
  {
   "cell_type": "markdown",
   "metadata": {},
   "source": [
    "# Rust 1000-20000"
   ]
  },
  {
   "cell_type": "code",
   "execution_count": 4,
   "metadata": {},
   "outputs": [
    {
     "name": "stdout",
     "output_type": "stream",
     "text": [
      "[23.0, 28.0, 36.0, 41.0, 47.0, 54.0, 62.0, 69.0, 77.0, 84.0, 92.0, 99.0, 107.0, 114.0, 122.0, 129.0, 136.0, 144.0, 151.0]\n",
      "[18.0, 25.0, 32.0, 40.0, 47.0, 54.0, 62.0, 69.0, 77.0, 84.0, 92.0, 99.0, 107.0, 114.0, 122.0, 129.0, 136.0, 144.0, 151.0]\n",
      "[18.0, 25.0, 32.0, 39.0, 47.0, 54.0, 62.0, 69.0, 77.0, 84.0, 91.0, 99.0, 107.0, 114.0, 122.0, 129.0, 136.0, 144.0, 151.0]\n",
      "[18.0, 25.0, 32.0, 39.0, 47.0, 54.0, 62.0, 69.0, 77.0, 84.0, 92.0, 99.0, 107.0, 114.0, 121.0, 129.0, 136.0, 144.0, 151.0]\n",
      "[18.0, 25.0, 32.0, 39.0, 47.0, 54.0, 62.0, 69.0, 77.0, 84.0, 91.0, 99.0, 107.0, 114.0, 122.0, 129.0, 136.0, 144.0, 151.0]\n",
      "[18.0, 24.0, 32.0, 39.0, 47.0, 55.0, 62.0, 69.0, 77.0, 84.0, 92.0, 99.0, 107.0, 114.0, 121.0, 129.0, 137.0, 144.0, 151.0]\n",
      "[18.0, 24.0, 32.0, 39.0, 47.0, 54.0, 62.0, 69.0, 77.0, 84.0, 92.0, 99.0, 107.0, 114.0, 121.0, 129.0, 136.0, 143.0, 151.0]\n",
      "[18.0, 25.0, 32.0, 39.0, 47.0, 54.0, 62.0, 69.0, 77.0, 84.0, 91.0, 99.0, 107.0, 114.0, 122.0, 129.0, 136.0, 144.0, 151.0]\n",
      "[18.0, 24.0, 32.0, 39.0, 47.0, 54.0, 62.0, 69.0, 77.0, 84.0, 92.0, 99.0, 106.0, 114.0, 121.0, 129.0, 136.0, 144.0, 151.0]\n",
      "[18.0, 24.0, 32.0, 40.0, 47.0, 54.0, 62.0, 69.0, 77.0, 84.0, 92.0, 99.0, 107.0, 114.0, 121.0, 129.0, 136.0, 144.0, 151.0]\n",
      "[ 18.5  24.9  32.4  39.4  47.   54.1  62.   69.   77.   84.   91.7  99.\n",
      " 106.9 114.  121.5 129.  136.1 143.9 151. ]\n"
     ]
    }
   ],
   "source": [
    "results = []\n",
    "\n",
    "for i in range(10):\n",
    "    jsonnet_function_execution_times = !./test_rust_2.sh 2>&1 | grep real | grep -o '[0-9]\\+\\.[0-9]\\+'\n",
    "    milliseconds = [float(t) * 1000 for t in jsonnet_function_execution_times]\n",
    "    print(milliseconds)\n",
    "    results.append(milliseconds)\n",
    "\n",
    "results = np.array(results)\n",
    "avg_milliseconds_rust_2 = np.mean(results, axis=0)\n",
    "print(avg_milliseconds_rust_2)"
   ]
  },
  {
   "cell_type": "markdown",
   "metadata": {},
   "source": [
    "# Jsonnet FFI 1000-20000"
   ]
  },
  {
   "cell_type": "code",
   "execution_count": 5,
   "metadata": {},
   "outputs": [
    {
     "name": "stdout",
     "output_type": "stream",
     "text": [
      "[177.0, 255.0, 213.0, 206.0, 228.0, 227.0, 243.0, 244.0, 254.0, 264.0, 276.0, 274.0, 287.0, 299.0, 307.0, 336.0, 330.0, 341.0, 360.0]\n",
      "[143.0, 154.0, 168.0, 194.0, 258.0, 242.0, 236.0, 247.0, 245.0, 262.0, 273.0, 287.0, 282.0, 291.0, 305.0, 329.0, 332.0, 339.0, 359.0]\n",
      "[137.0, 154.0, 166.0, 188.0, 249.0, 240.0, 231.0, 230.0, 249.0, 261.0, 264.0, 271.0, 278.0, 289.0, 298.0, 326.0, 340.0, 334.0, 347.0]\n",
      "[141.0, 153.0, 159.0, 172.0, 205.0, 288.0, 231.0, 235.0, 245.0, 255.0, 271.0, 274.0, 276.0, 352.0, 402.0, 349.0, 387.0, 402.0, 362.0]\n",
      "[147.0, 163.0, 188.0, 244.0, 224.0, 218.0, 239.0, 269.0, 263.0, 269.0, 355.0, 332.0, 353.0, 385.0, 306.0, 357.0, 477.0, 354.0, 442.0]\n",
      "[188.0, 310.0, 220.0, 222.0, 360.0, 277.0, 253.0, 304.0, 344.0, 289.0, 361.0, 292.0, 352.0, 344.0, 339.0, 344.0, 336.0, 350.0, 358.0]\n",
      "[142.0, 161.0, 181.0, 255.0, 244.0, 227.0, 234.0, 251.0, 260.0, 263.0, 272.0, 276.0, 286.0, 295.0, 307.0, 312.0, 326.0, 348.0, 352.0]\n",
      "[153.0, 154.0, 188.0, 274.0, 224.0, 231.0, 228.0, 253.0, 259.0, 261.0, 271.0, 280.0, 297.0, 293.0, 308.0, 313.0, 331.0, 361.0, 361.0]\n",
      "[145.0, 161.0, 202.0, 254.0, 222.0, 238.0, 230.0, 264.0, 373.0, 262.0, 254.0, 283.0, 284.0, 289.0, 318.0, 325.0, 325.0, 349.0, 353.0]\n",
      "[154.0, 174.0, 229.0, 235.0, 233.0, 222.0, 237.0, 250.0, 257.0, 267.0, 272.0, 279.0, 287.0, 292.0, 304.0, 317.0, 323.0, 360.0, 361.0]\n",
      "[152.7 183.9 191.4 224.4 244.7 241.  236.2 254.7 274.9 265.3 286.9 284.8\n",
      " 298.2 312.9 319.4 330.8 350.7 353.8 365.5]\n"
     ]
    }
   ],
   "source": [
    "results = []\n",
    "\n",
    "for i in range(10):\n",
    "    jsonnet_function_execution_times = !./test_ffi_2.sh 2>&1 | grep real | grep -o '[0-9]\\+\\.[0-9]\\+'\n",
    "    milliseconds = [float(t) * 1000 for t in jsonnet_function_execution_times]\n",
    "    print(milliseconds)\n",
    "    results.append(milliseconds)\n",
    "\n",
    "results = np.array(results)\n",
    "avg_milliseconds_ffi_2 = np.mean(results, axis=0)\n",
    "print(avg_milliseconds_ffi_2)"
   ]
  },
  {
   "cell_type": "code",
   "execution_count": 10,
   "metadata": {},
   "outputs": [
    {
     "name": "stdout",
     "output_type": "stream",
     "text": [
      "LinregressResult(slope=0.014840350877192982, intercept=2.6622807017543835, rvalue=0.9999682453791312, pvalue=4.021612269957098e-37, stderr=2.8684581346684637e-05, intercept_stderr=0.176241018396839)\n",
      "LinregressResult(slope=0.020867368421052628, intercept=157.45052631578946, rvalue=0.9833346479130477, pvalue=5.0135134090648625e-14, stderr=0.0009357226181975661, intercept_stderr=5.749176018117351)\n"
     ]
    }
   ],
   "source": [
    "from scipy.stats import linregress\n",
    "\n",
    "x_axis_lreg = list(range(1000, 10001, 500))\n",
    "print(linregress(x_axis_lreg, avg_milliseconds_rust_2))\n",
    "print(linregress(x_axis_lreg, avg_milliseconds_ffi_2))"
   ]
  },
  {
   "cell_type": "markdown",
   "metadata": {},
   "source": [
    "# Plot"
   ]
  },
  {
   "cell_type": "code",
   "execution_count": 6,
   "metadata": {},
   "outputs": [
    {
     "name": "stdout",
     "output_type": "stream",
     "text": [
      "19\n",
      "19\n"
     ]
    },
    {
     "data": {
      "image/png": "[encoded data removed]",
      "text/plain": [
       "<Figure size 640x480 with 2 Axes>"
      ]
     },
     "metadata": {},
     "output_type": "display_data"
    }
   ],
   "source": [
    "from matplotlib import pyplot as plt\n",
    "\n",
    "plt.rcParams.update({\n",
    "    \"text.usetex\": True,\n",
    "})\n",
    "\n",
    "fig, (ax1, ax2) = plt.subplots(2, 1)\n",
    "x_axis = list(range(1, 31))\n",
    "ax1.plot(x_axis, avg_milliseconds_rust, color=\"C0\", label=\"Rust\")\n",
    "ax1.plot(x_axis, avg_milliseconds_ffi, color=\"C1\", label=\"Jsonnet FFI\")\n",
    "ax1.plot(x_axis, avg_milliseconds_jsonnet, color=\"C2\", label=\"Jsonnet\")\n",
    "ax1.legend()\n",
    "x_axis_2 = list(range(1000, 10001, 500))\n",
    "print(len(avg_milliseconds_rust_2))\n",
    "print(len(avg_milliseconds_ffi_2))\n",
    "ax2.plot(x_axis_2, avg_milliseconds_rust_2, color=\"C0\", label=\"Rust\")\n",
    "ax2.plot(x_axis_2, avg_milliseconds_ffi_2, color=\"C1\", label=\"Jsonnet FFI\")\n",
    "fig.text(0.04, 0.5, \"time (ms)\", va=\"center\", rotation='vertical')\n",
    "ax2.set_xlabel(\"number of calculated hashes\")\n",
    "ax2.legend()\n",
    "plt.savefig('hash_calculations.pdf')\n",
    "plt.show()"
   ]
  }
 ],
 "metadata": {
  "kernelspec": {
   "display_name": "Python 3.10.7 64-bit",
   "language": "python",
   "name": "python3"
  },
  "language_info": {
   "codemirror_mode": {
    "name": "ipython",
    "version": 3
   },
   "file_extension": ".py",
   "mimetype": "text/x-python",
   "name": "python",
   "nbconvert_exporter": "python",
   "pygments_lexer": "ipython3",
   "version": "3.10.7"
  },
  "orig_nbformat": 4,
  "vscode": {
   "interpreter": {
    "hash": "b0fa6594d8f4cbf19f97940f81e996739fb7646882a419484c72d19e05852a7e"
   }
  }
 },
 "nbformat": 4,
 "nbformat_minor": 2
}
