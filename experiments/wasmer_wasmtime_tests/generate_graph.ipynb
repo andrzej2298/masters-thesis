{
 "cells": [
  {
   "cell_type": "code",
   "execution_count": 2,
   "metadata": {},
   "outputs": [],
   "source": [
    "import numpy as np\n",
    "from statistics import mean\n",
    "\n",
    "results_cranelift_rust = []\n",
    "results_singlepass_rust = []\n",
    "results_wasmtime_rust = []\n",
    "results_cranelift_c = []\n",
    "results_singlepass_c = []\n",
    "results_wasmtime_c = []\n",
    "\n",
    "for i in range(30):\n",
    "    result_cranelift_rust = !./jsonnet_wasmer_cranelift test_ffi.jsonnet | grep initialisation | grep -o '[0-9]\\+\\.[0-9]\\+'\n",
    "    result_singlepass_rust = !./jsonnet_wasmer_singlepass test_ffi.jsonnet | grep initialisation | grep -o '[0-9]\\+\\.[0-9]\\+'\n",
    "    result_wasmtime_rust = !./jsonnet_wasmtime test_ffi.jsonnet | grep initialisation | grep -o '[0-9]\\+\\.[0-9]\\+'\n",
    "    result_cranelift_c = !./jsonnet_wasmer_cranelift test_ffi_c.jsonnet | grep initialisation | grep -o '[0-9]\\+\\.[0-9]\\+'\n",
    "    result_singlepass_c = !./jsonnet_wasmer_singlepass test_ffi_c.jsonnet | grep initialisation | grep -o '[0-9]\\+\\.[0-9]\\+'\n",
    "    result_wasmtime_c = !./jsonnet_wasmtime test_ffi_c.jsonnet | grep initialisation | grep -o '[0-9]\\+\\.[0-9]\\+'\n",
    "\n",
    "    results_cranelift_rust.append(float(result_cranelift_rust[0]))\n",
    "    results_singlepass_rust.append(float(result_singlepass_rust[0]))\n",
    "    results_wasmtime_rust.append(float(result_wasmtime_rust[0]))\n",
    "    results_cranelift_c.append(float(result_cranelift_c[0]))\n",
    "    results_singlepass_c.append(float(result_singlepass_c[0]))\n",
    "    results_wasmtime_c.append(float(result_wasmtime_c[0]))\n",
    "\n",
    "result_cranelift_rust = mean(results_cranelift_rust)\n",
    "result_singlepass_rust = mean(results_singlepass_rust)\n",
    "result_wasmtime_rust = mean(results_wasmtime_rust)\n",
    "result_cranelift_c = mean(results_cranelift_c)\n",
    "result_singlepass_c = mean(results_singlepass_c)\n",
    "result_wasmtime_c = mean(results_wasmtime_c)"
   ]
  },
  {
   "cell_type": "code",
   "execution_count": 3,
   "metadata": {},
   "outputs": [
    {
     "data": {
      "image/png": "[encoded data removed]",
      "text/plain": [
       "<Figure size 640x480 with 1 Axes>"
      ]
     },
     "metadata": {},
     "output_type": "display_data"
    },
    {
     "data": {
      "text/plain": [
       "<Figure size 640x480 with 0 Axes>"
      ]
     },
     "metadata": {},
     "output_type": "display_data"
    }
   ],
   "source": [
    "from matplotlib import pyplot as plt\n",
    "\n",
    "plt.rcParams.update({\n",
    "    \"text.usetex\": True,\n",
    "})\n",
    "\n",
    "labels = [\"Wasmer Cranelift\", \"Wasmer Singlepass\", \"Wasmtime Cranelift\"]\n",
    "\n",
    "x = np.arange(len(labels))\n",
    "width = 0.35\n",
    "\n",
    "fig, ax = plt.subplots()\n",
    "ax.bar(x - width / 2, [result_cranelift_rust, result_singlepass_rust, result_wasmtime_rust], width, label=\"Rust\")\n",
    "ax.bar(x + width / 2, [result_cranelift_c, result_singlepass_c, result_wasmtime_c], width, label=\"C\")\n",
    "ax.set_ylabel(r\"time (ms)\")\n",
    "ax.set_xticks(x, labels)\n",
    "ax.legend()\n",
    "\n",
    "plt.savefig(\"wasm_compilers.pdf\")\n",
    "plt.show()"
   ]
  }
 ],
 "metadata": {
  "kernelspec": {
   "display_name": "Python 3.8.10 64-bit",
   "language": "python",
   "name": "python3"
  },
  "language_info": {
   "codemirror_mode": {
    "name": "ipython",
    "version": 3
   },
   "file_extension": ".py",
   "mimetype": "text/x-python",
   "name": "python",
   "nbconvert_exporter": "python",
   "pygments_lexer": "ipython3",
   "version": "3.8.10"
  },
  "orig_nbformat": 4,
  "vscode": {
   "interpreter": {
    "hash": "916dbcbb3f70747c44a77c7bcd40155683ae19c65e1c03b4aa3499c5328201f1"
   }
  }
 },
 "nbformat": 4,
 "nbformat_minor": 2
}
